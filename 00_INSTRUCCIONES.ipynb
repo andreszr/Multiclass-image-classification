{
  "nbformat": 4,
  "nbformat_minor": 0,
  "metadata": {
    "colab": {
      "name": "00-INSTRUCCIONES.ipynb",
      "provenance": []
    },
    "kernelspec": {
      "name": "python3",
      "display_name": "Python 3"
    },
    "language_info": {
      "name": "python"
    }
  },
  "cells": [
    {
      "cell_type": "markdown",
      "metadata": {
        "id": "oGrIzFsRsP0U"
      },
      "source": [
        "# Instrucciones:\n",
        "\n",
        "\n"
      ]
    },
    {
      "cell_type": "markdown",
      "metadata": {
        "id": "fVoYcU6OhFDT"
      },
      "source": [
        "En esta entrega se tienen basicamente tres notebooks:\n",
        "\n",
        "1. Multiclass_image_classification_Keypoints_and_GaussianNB\n",
        "2. Multiclass_image_classification_deep_learning\n",
        "3. Face_anonimization\n",
        "\n",
        "Los tres notebooks se puede ejecutar linealmente sin ninguna complicación, sin embargo el procesamiento en la parte de descarga de imagenes y extracción de caracteristicas es algo pesado, por eso esto se hace con un subset de 2000 registros, se aconseja tener paciencia sobretodo en el modelo de deep learning.\n",
        "\n",
        "Cada uno de los pasos de los 3 notebooks estan documentados y son faciles de entender ademas de tener un explicación en el articulo de los objetivos, metodologias y tecnicas utilizadas.\n",
        "\n",
        "Adicional a esto se añade una carpeta de \"deployment\" en el repositorio el cual tiene un ejemplo de despliegue del modelo de deep learning en azure (notebook 02)"
      ]
    },
    {
      "cell_type": "markdown",
      "metadata": {
        "id": "y8n_bDxIsY99"
      },
      "source": [
        "# 1. Multiclass_image_classification_Keypoints_and_GaussianNB\n"
      ]
    },
    {
      "cell_type": "markdown",
      "metadata": {
        "id": "WI2pKuGqsUhk"
      },
      "source": [
        "Este primer notebook hace referencia a el modelo base que construimos y el cual usa un metodo de machine learning tradicional para la clasificación de multiples clases de lugares con imagenes.\n",
        "\n",
        "Se dejan dos archivos en la carpeta files del repositorio\n",
        "\n",
        "1.   train.csv - El dataset que se debe descargar en el primer bloque de código, en los notebooks esto se hace por medio del id del archivo en drive.\n",
        "2.   images_descriptors.csv - El segundo archivo se puede cargar desde la sección de modelo, este archivo ya contiene las caracteristicas extraidas, para probar en un modelo.\n"
      ]
    },
    {
      "cell_type": "markdown",
      "metadata": {
        "id": "LUAacymct3j9"
      },
      "source": [
        "# 2. Multiclass_image_classification_deep_learning\n"
      ]
    },
    {
      "cell_type": "markdown",
      "metadata": {
        "id": "67twySJGuC_2"
      },
      "source": [
        "El segundo notebook hace referencia a el modelo final que se contruyo y el cual usa un metodo completamente diferente al primer notebook, se usa deep learning con la red pre-entrenada mobileNet_v2 (haciendo transfer learning), se baja de tensorflow_hub y se ajutan algunas capaz, posteriormente se le hace ajuste a los datos del problema y se validan los resultados."
      ]
    },
    {
      "cell_type": "markdown",
      "metadata": {
        "id": "q0ftCcLIt6XF"
      },
      "source": [
        "# 3. Face_anonimization"
      ]
    },
    {
      "cell_type": "markdown",
      "metadata": {
        "id": "qNNS4_pZuFQT"
      },
      "source": [
        "Este notebook es un extra de cosas que quisimos experimentar en una de las varias iteraciones del proyecto, debido a la cantidad de imagenes de lugares que incluyen personas en las imagenes, se decide probar metodos de anonimizaión utilizando modelos pre-entrenados.\n",
        "\n",
        "Aunque el reconocimiento facial puede ser un proyecto entero por si solo quisimos dar el plus de probar estos metodos, teniendo en mente temas de etica y privacidad expuestos en la especialización.\n",
        "\n",
        "Para ejecutar el  bloque de código donde se carga el modelo, son necesarios dos archivos que se encuentran en la carpeta files del repositorio \n",
        "1. deploy.prototxt.txt \n",
        "2. face_detection_cm.caffemodel\n",
        "\n",
        "deben ubicarse en la raíz de archivos del notebook para su correcta ejecución"
      ]
    }
  ]
}